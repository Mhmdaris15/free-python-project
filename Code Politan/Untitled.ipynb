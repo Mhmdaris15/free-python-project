{
 "cells": [
  {
   "cell_type": "code",
   "execution_count": 4,
   "metadata": {},
   "outputs": [
    {
     "name": "stdout",
     "output_type": "stream",
     "text": [
      "Dapat meminjam buku selama 3 hari\n"
     ]
    }
   ],
   "source": [
    "# Nomor 1\n",
    "\n",
    "member_perpus = True\n",
    "\n",
    "if member_perpus == True:\n",
    "    print(\"Dapat meminjam buku selama 3 hari\")\n"
   ]
  },
  {
   "cell_type": "code",
   "execution_count": 11,
   "metadata": {},
   "outputs": [
    {
     "name": "stdout",
     "output_type": "stream",
     "text": [
      "Dapat meminjam buku selama 3 hari\n"
     ]
    }
   ],
   "source": [
    "# Nomor 2\n",
    "\n",
    "member_perpus = True\n",
    "\n",
    "if member_perpus == True:\n",
    "    print('Dapat meminjam buku selama 3 hari')\n",
    "else:\n",
    "    print('Hanya dapat meminjam buku selama 2 hari')"
   ]
  }
 ],
 "metadata": {
  "kernelspec": {
   "display_name": "Python 3",
   "language": "python",
   "name": "python3"
  },
  "language_info": {
   "codemirror_mode": {
    "name": "ipython",
    "version": 3
   },
   "file_extension": ".py",
   "mimetype": "text/x-python",
   "name": "python",
   "nbconvert_exporter": "python",
   "pygments_lexer": "ipython3",
   "version": "3.8.3"
  }
 },
 "nbformat": 4,
 "nbformat_minor": 4
}
